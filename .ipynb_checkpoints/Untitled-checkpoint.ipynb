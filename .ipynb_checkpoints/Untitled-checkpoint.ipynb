{
 "cells": [
  {
   "cell_type": "code",
   "execution_count": 5,
   "id": "090f9716",
   "metadata": {},
   "outputs": [],
   "source": [
    "from benchmark_reader import Benchmark\n",
    "from benchmark_reader import select_files\n",
    "\n",
    "b = Benchmark()\n",
    "files = select_files('en/train')\n",
    "b.fill_benchmark(files)\n"
   ]
  },
  {
   "cell_type": "code",
   "execution_count": 8,
   "id": "9295b660",
   "metadata": {},
   "outputs": [
    {
     "name": "stdout",
     "output_type": "stream",
     "text": [
      "Number of entries:  13211\n",
      "Number of texts:  35426\n",
      "Number of distinct properties:  372\n"
     ]
    }
   ],
   "source": [
    "print(\"Number of entries: \", b.entry_count())\n",
    "print(\"Number of texts: \", b.total_lexcount())\n",
    "print(\"Number of distinct properties: \", len(list(b.unique_p_mtriples())))"
   ]
  },
  {
   "cell_type": "code",
   "execution_count": 12,
   "id": "1e22d6e0",
   "metadata": {},
   "outputs": [
    {
     "data": {
      "text/plain": [
       "'1'"
      ]
     },
     "execution_count": 12,
     "metadata": {},
     "output_type": "execute_result"
    }
   ],
   "source": [
    "entry = b.entries[0]\n",
    "entry.size\n"
   ]
  },
  {
   "cell_type": "code",
   "execution_count": 13,
   "id": "e037c28b",
   "metadata": {},
   "outputs": [
    {
     "data": {
      "text/plain": [
       "'Airport'"
      ]
     },
     "execution_count": 13,
     "metadata": {},
     "output_type": "execute_result"
    }
   ],
   "source": [
    "entry.category\n"
   ]
  },
  {
   "cell_type": "code",
   "execution_count": 14,
   "id": "f0d79c9c",
   "metadata": {},
   "outputs": [
    {
     "data": {
      "text/plain": [
       "'NA'"
      ]
     },
     "execution_count": 14,
     "metadata": {},
     "output_type": "execute_result"
    }
   ],
   "source": [
    "entry.shape_type"
   ]
  },
  {
   "cell_type": "code",
   "execution_count": 67,
   "id": "f16dbd4c",
   "metadata": {},
   "outputs": [],
   "source": [
    "string1 = string2 = string3 = \"\"\n",
    "with open(\"output.txt\", \"w\", encoding=\"utf-8\") as file:\n",
    "    for i in range(b.entry_count()):\n",
    "        entry = b.entries[i]\n",
    "        file.write(\"<\"+entry.category + \" Size:\" + entry.size +\"> \"+ \"\\n\")\n",
    "        \n",
    "        data = entry.list_triples()\n",
    "        texts = entry.lexs\n",
    "        file.write(\"\\t\"+\"<MR>\" + \"\\n\")\n",
    "        for RDF in range(len(entry.list_triples())):\n",
    "            input_string = data[RDF]\n",
    "            strings = input_string.split(' | ')\n",
    "            string1 = strings[0]\n",
    "            string2 = strings[1]\n",
    "            string3 = strings[2]\n",
    "\n",
    "            MR = \" __subject__ \" + string1 + \" __predicate__ \" + string2 + \" __object__ \" + string3\n",
    "            file.write(\"\\t\\t\"+MR +\"\\n\")\n",
    "        file.write(\"\\t\"+\"</MR>\" + \"\\n\")\n",
    "        file.write(\"\\t\"+\"<LEX>\" + \"\\n\")\n",
    "        for lex in range(len(texts)):\n",
    "            file.write(\"\\t\\t\"+texts[lex].lex + \"\\n\")\n",
    "        file.write(\"\\t\"+\"</LEX>\" + \"\\n\")\n",
    "            \n",
    "        file.write(\"</\"+entry.category +\" Size:\" + entry.size + \"> \"+ \"\\n\")\n"
   ]
  },
  {
   "cell_type": "code",
   "execution_count": 18,
   "id": "5b660c93",
   "metadata": {},
   "outputs": [
    {
     "name": "stdout",
     "output_type": "stream",
     "text": [
      "range(0, 13211)\n"
     ]
    }
   ],
   "source": [
    "print(range(b.entry_count()))"
   ]
  },
  {
   "cell_type": "code",
   "execution_count": 19,
   "id": "e42c1b04",
   "metadata": {},
   "outputs": [
    {
     "name": "stdout",
     "output_type": "stream",
     "text": [
      "['Visvesvaraya_Technological_University | city | Belgaum', 'Acharya_Institute_of_Technology | established | 2000', 'Acharya_Institute_of_Technology | motto | \"Nurturing Excellence\"', 'Acharya_Institute_of_Technology | state | Karnataka', 'Acharya_Institute_of_Technology | country | \"India\"', 'Acharya_Institute_of_Technology | campus | \"In Soldevanahalli, Acharya Dr. Sarvapalli Radhakrishnan Road, Hessarghatta Main Road, Bangalore – 560090.\"', 'Acharya_Institute_of_Technology | affiliation | Visvesvaraya_Technological_University']\n"
     ]
    }
   ],
   "source": [
    "print(entry.list_triples())"
   ]
  },
  {
   "cell_type": "code",
   "execution_count": 60,
   "id": "c8960fbb",
   "metadata": {},
   "outputs": [
    {
     "name": "stdout",
     "output_type": "stream",
     "text": [
      "2\n"
     ]
    }
   ],
   "source": [
    "texts = entry.lexs\n",
    "print(len(texts))"
   ]
  },
  {
   "cell_type": "code",
   "execution_count": 58,
   "id": "ecc52f0f",
   "metadata": {},
   "outputs": [
    {
     "data": {
      "text/plain": [
       "'In Soldevanahalli, Acharya Dr. Sarvapalli Radhakrishnan Road, Hessarghatta Main Road, Bangalore – 560090 is the location of the Acharya Institute of Technology established in the state of Karnataka, India in the year 2000. The Institute, whose motto is \"Nurturing Excellence\" is affiliated with the Visvesvaraya Technological University in the city of Belgaum.'"
      ]
     },
     "execution_count": 58,
     "metadata": {},
     "output_type": "execute_result"
    }
   ],
   "source": [
    "texts[0].lex"
   ]
  },
  {
   "cell_type": "code",
   "execution_count": 81,
   "id": "840060b7",
   "metadata": {},
   "outputs": [],
   "source": [
    "import xml.etree.ElementTree as ET\n",
    "\n",
    "\n",
    "def prettify(elem):\n",
    "    rough_string = ET.tostring(elem, 'utf-8')\n",
    "    reparsed = minidom.parseString(rough_string)\n",
    "    return reparsed.toprettyxml(indent=\"  \")\n",
    "\n",
    "root = ET.Element(\"dataset\")\n",
    "\n",
    "for i in range(b.entry_count()):\n",
    "    entry = b.entries[i]\n",
    "    category = entry.category\n",
    "    size = entry.size\n",
    "\n",
    "    entry_elem = ET.SubElement(root, category)\n",
    "    entry_elem.set(\"Size\", size)\n",
    "\n",
    "    data = entry.list_triples()\n",
    "    texts = entry.lexs\n",
    "\n",
    "    mr_elem = ET.SubElement(entry_elem, \"MR\")\n",
    "    for RDF in range(len(entry.list_triples())):\n",
    "        input_string = data[RDF]\n",
    "        strings = input_string.split(' | ')\n",
    "        string1 = strings[0]\n",
    "        string2 = strings[1]\n",
    "        string3 = strings[2]\n",
    "        \n",
    "        if '\"' in string3:\n",
    "            string3 = string3.replace('\"', \"\" )\n",
    "\n",
    "        MR = \" __subject__ \" + string1 + \" __predicate__ \" + string2 + \" __object__ \" + string3\n",
    "        mr_sub_elem = ET.SubElement(mr_elem, \"MR_text\")\n",
    "        mr_sub_elem.text = MR\n",
    "\n",
    "    lex_elem = ET.SubElement(entry_elem, \"LEX\")\n",
    "    for lex in range(len(texts)):\n",
    "        lex_sub_elem = ET.SubElement(lex_elem, \"LEX_text\")\n",
    "        lex_sub_elem.text = texts[lex].lex\n",
    "\n",
    "xml_str = prettify(root)\n",
    "with open(\"output.xml\", \"w\", encoding=\"utf-8\") as file:\n",
    "    file.write(xml_str)\n"
   ]
  },
  {
   "cell_type": "code",
   "execution_count": null,
   "id": "d82ddfb8",
   "metadata": {},
   "outputs": [],
   "source": []
  }
 ],
 "metadata": {
  "kernelspec": {
   "display_name": "Python 3 (ipykernel)",
   "language": "python",
   "name": "python3"
  },
  "language_info": {
   "codemirror_mode": {
    "name": "ipython",
    "version": 3
   },
   "file_extension": ".py",
   "mimetype": "text/x-python",
   "name": "python",
   "nbconvert_exporter": "python",
   "pygments_lexer": "ipython3",
   "version": "3.9.13"
  }
 },
 "nbformat": 4,
 "nbformat_minor": 5
}
